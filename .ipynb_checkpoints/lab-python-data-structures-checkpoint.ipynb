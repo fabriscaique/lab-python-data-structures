{
 "cells": [
  {
   "cell_type": "markdown",
   "metadata": {
    "tags": []
   },
   "source": [
    "# Lab | Data Structures "
   ]
  },
  {
   "cell_type": "markdown",
   "metadata": {},
   "source": [
    "## Exercise: Managing Customer Orders\n",
    "\n",
    "As part of a business venture, you are starting an online store that sells various products. To ensure smooth operations, you need to develop a program that manages customer orders and inventory.\n",
    "\n",
    "Follow the steps below to complete the exercise:\n",
    "\n",
    "1. Define a list called `products` that contains the following items: \"t-shirt\", \"mug\", \"hat\", \"book\", \"keychain\".\n",
    "\n",
    "2. Create an empty dictionary called `inventory`.\n",
    "\n",
    "3. Ask the user to input the quantity of each product available in the inventory. Use the product names from the `products` list as keys in the `inventory` dictionary and assign the respective quantities as values.\n",
    "\n",
    "4. Create an empty set called `customer_orders`.\n",
    "\n",
    "5. Ask the user to input the name of three products that a customer wants to order (from those in the products list, meaning three products out of \"t-shirt\", \"mug\", \"hat\", \"book\" or \"keychain\". Add each product name to the `customer_orders` set.\n",
    "\n",
    "6. Print the products in the `customer_orders` set.\n",
    "\n",
    "7. Calculate the following order statistics:\n",
    "   - Total Products Ordered: The total number of products in the `customer_orders` set.\n",
    "   - Percentage of Products Ordered: The percentage of products ordered compared to the total available products.\n",
    "   \n",
    "   Store these statistics in a tuple called `order_status`.\n",
    "\n",
    "8. Print the order statistics using the following format:\n",
    "   ```\n",
    "   Order Statistics:\n",
    "   Total Products Ordered: <total_products_ordered>\n",
    "   Percentage of Products Ordered: <percentage_ordered>% \n",
    "   ```\n",
    "\n",
    "9. Update the inventory by subtracting 1 from the quantity of each product. Modify the `inventory` dictionary accordingly.\n",
    "\n",
    "10. Print the updated inventory, displaying the quantity of each product on separate lines.\n",
    "\n",
    "Solve the exercise by implementing the steps using the Python concepts of lists, dictionaries, sets, and basic input/output operations. "
   ]
  },
  {
   "cell_type": "code",
   "execution_count": 3,
   "metadata": {},
   "outputs": [
    {
     "name": "stdout",
     "output_type": "stream",
     "text": [
      "<class 'list'>\n"
     ]
    }
   ],
   "source": [
    "# Define product list\n",
    "\n",
    "products = [\"t-shirt\", \"mug\", \"hat\", \"book\", \"keychain\"]\n",
    "print(type(products)) # Check variable type"
   ]
  },
  {
   "cell_type": "code",
   "execution_count": 4,
   "metadata": {},
   "outputs": [
    {
     "name": "stdout",
     "output_type": "stream",
     "text": [
      "<class 'dict'>\n"
     ]
    }
   ],
   "source": [
    "# Create empty dictionary for inventory\n",
    "inventory = {}\n",
    "print(type(inventory))"
   ]
  },
  {
   "cell_type": "code",
   "execution_count": 5,
   "metadata": {},
   "outputs": [
    {
     "name": "stdout",
     "output_type": "stream",
     "text": [
      "Please, enter the respective quantity per product in inventory\n"
     ]
    },
    {
     "name": "stdin",
     "output_type": "stream",
     "text": [
      "t-shirt:  10\n",
      "mug:  10\n",
      "hat:  10\n",
      "book:  10\n",
      "keychain:  10\n"
     ]
    },
    {
     "name": "stdout",
     "output_type": "stream",
     "text": [
      "{'t-shirt': 10, 'mug': 10, 'hat': 10, 'book': 10, 'keychain': 10}\n"
     ]
    }
   ],
   "source": [
    "# Prompt user to enter number of items on the inventory, per item\n",
    "print(\"Please, enter the respective quantity per product in inventory\")\n",
    "\n",
    "# Loop to iterate each item in inventory, update dictionary with user count\n",
    "for product in products:\n",
    "    user_count = int(input(f\"{product}: \")) # Store user answer in variable count\n",
    "    inventory.update({product:user_count}) # Add item to inventory with count provided by user as value\n",
    "\n",
    "print(inventory) # Check out everything"
   ]
  },
  {
   "cell_type": "code",
   "execution_count": 6,
   "metadata": {},
   "outputs": [
    {
     "name": "stdout",
     "output_type": "stream",
     "text": [
      "<class 'set'>\n"
     ]
    }
   ],
   "source": [
    "# Empty set to store customer orders\n",
    "customer_orders = set({})\n",
    "print(type(customer_orders))"
   ]
  },
  {
   "cell_type": "code",
   "execution_count": 7,
   "metadata": {},
   "outputs": [
    {
     "name": "stdout",
     "output_type": "stream",
     "text": [
      "These are the current items available:\n",
      "\n",
      "t-shirt: 10\n",
      "mug: 10\n",
      "hat: 10\n",
      "book: 10\n",
      "keychain: 10\n",
      "\n",
      "Let's buy three items\n",
      "\n"
     ]
    },
    {
     "name": "stdin",
     "output_type": "stream",
     "text": [
      "Enter your order:  keychain\n",
      "Enter your order:  book\n",
      "Enter your order:  hat\n"
     ]
    }
   ],
   "source": [
    "# User input on customer's order\n",
    "print('These are the current items available:\\n') \n",
    "\n",
    "for key, value in inventory.items(): # Show inventory for reference\n",
    "    print(f'{key}: {value}')\n",
    "\n",
    "print(\"\\nLet's buy three items\\n\")\n",
    "\n",
    "while True:    # Set loop to accept user input\n",
    "    products = input(\"Enter your order: \")\n",
    "    if products in inventory:\n",
    "        inventory[products] -= 1\n",
    "        customer_orders.add(products)\n",
    "    else:\n",
    "        print(\"Item sold out\")\n",
    "\n",
    "    if len(customer_orders) == 3:\n",
    "        break # Stop loop when order size reaches three"
   ]
  },
  {
   "cell_type": "code",
   "execution_count": 22,
   "metadata": {},
   "outputs": [
    {
     "name": "stdout",
     "output_type": "stream",
     "text": [
      "Your order is:\n",
      "book\n",
      "hat\n",
      "keychain\n",
      "\n",
      "Total products ordered: 3\n",
      "Percentage of products ordered: 6.382978723404255%\n"
     ]
    }
   ],
   "source": [
    "# Order review\n",
    "print('Your order is:') \n",
    "for item in customer_orders:\n",
    "    print(item)\n",
    "print() # Clean line to aid readability\n",
    "print(f'Total products ordered: {len(customer_orders)}') # Review order size\n",
    "\n",
    "order_status = len(customer_orders) / sum(inventory.values()) * 100\n",
    "print(f'Percentage of products ordered: {order_status}%') # How much of the stock is gone with this single order"
   ]
  },
  {
   "cell_type": "code",
   "execution_count": 24,
   "metadata": {},
   "outputs": [
    {
     "name": "stdout",
     "output_type": "stream",
     "text": [
      "Current inventory is: \n",
      "\n",
      "t-shirt:\n",
      " 10\n",
      "mug:\n",
      " 10\n",
      "hat:\n",
      " 9\n",
      "book:\n",
      " 9\n",
      "keychain:\n",
      " 9\n"
     ]
    }
   ],
   "source": [
    "# Inventory review\n",
    "print('Current inventory is: ')\n",
    "print()\n",
    "\n",
    "for key, value in inventory.items():\n",
    "    print(f'{key}:\\n {value}')"
   ]
  }
 ],
 "metadata": {
  "kernelspec": {
   "display_name": "Python 3 (ipykernel)",
   "language": "python",
   "name": "python3"
  },
  "language_info": {
   "codemirror_mode": {
    "name": "ipython",
    "version": 3
   },
   "file_extension": ".py",
   "mimetype": "text/x-python",
   "name": "python",
   "nbconvert_exporter": "python",
   "pygments_lexer": "ipython3",
   "version": "3.12.4"
  }
 },
 "nbformat": 4,
 "nbformat_minor": 4
}
